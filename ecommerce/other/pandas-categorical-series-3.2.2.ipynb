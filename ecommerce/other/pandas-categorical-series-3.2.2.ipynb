{
 "cells": [
  {
   "cell_type": "code",
   "execution_count": 7,
   "id": "spectacular-sugar",
   "metadata": {},
   "outputs": [
    {
     "name": "stdout",
     "output_type": "stream",
     "text": [
      "['red', 'red', 'yellow', 'green', NaN]\n",
      "Categories (3, object): ['red', 'yellow', 'green']\n"
     ]
    }
   ],
   "source": [
    "import pandas as pd\n",
    "raw_cat = pd.Categorical([\"red\", \"red\", \"yellow\", \"green\", \"blue\"],\n",
    "                          categories=[\"red\", \"yellow\", \"green\"], ordered=False)\n",
    "print(raw_cat)"
   ]
  }
 ],
 "metadata": {
  "kernelspec": {
   "display_name": "Python 3",
   "language": "python",
   "name": "python3"
  },
  "language_info": {
   "codemirror_mode": {
    "name": "ipython",
    "version": 3
   },
   "file_extension": ".py",
   "mimetype": "text/x-python",
   "name": "python",
   "nbconvert_exporter": "python",
   "pygments_lexer": "ipython3",
   "version": "3.9.5"
  }
 },
 "nbformat": 4,
 "nbformat_minor": 5
}
